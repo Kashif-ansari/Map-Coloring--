{
 "cells": [
  {
   "cell_type": "code",
   "execution_count": 1,
   "id": "08aafc1e",
   "metadata": {},
   "outputs": [
    {
     "name": "stdout",
     "output_type": "stream",
     "text": [
      "Collecting Constraint\n",
      "  Downloading constraint-0.4.1.tar.gz (48 kB)\n",
      "  Downloading constraint-0.4.0.tar.gz (38 kB)\n",
      "Note: you may need to restart the kernel to use updated packages.\n"
     ]
    },
    {
     "name": "stderr",
     "output_type": "stream",
     "text": [
      "    ERROR: Command errored out with exit status 1:\n",
      "     command: 'C:\\ProgramData\\Anaconda3\\python.exe' -c 'import sys, setuptools, tokenize; sys.argv[0] = '\"'\"'C:\\\\Users\\\\KASHIF ANSARI\\\\AppData\\\\Local\\\\Temp\\\\pip-install-dx8b1i5r\\\\constraint_ac6b3a2dc2714c4e9cbd88403fd62fd8\\\\setup.py'\"'\"'; __file__='\"'\"'C:\\\\Users\\\\KASHIF ANSARI\\\\AppData\\\\Local\\\\Temp\\\\pip-install-dx8b1i5r\\\\constraint_ac6b3a2dc2714c4e9cbd88403fd62fd8\\\\setup.py'\"'\"';f=getattr(tokenize, '\"'\"'open'\"'\"', open)(__file__);code=f.read().replace('\"'\"'\\r\\n'\"'\"', '\"'\"'\\n'\"'\"');f.close();exec(compile(code, __file__, '\"'\"'exec'\"'\"'))' egg_info --egg-base 'C:\\Users\\KASHIF ANSARI\\AppData\\Local\\Temp\\pip-pip-egg-info-doihsqht'\n",
      "         cwd: C:\\Users\\KASHIF ANSARI\\AppData\\Local\\Temp\\pip-install-dx8b1i5r\\constraint_ac6b3a2dc2714c4e9cbd88403fd62fd8\\\n",
      "    Complete output (6 lines):\n",
      "    Traceback (most recent call last):\n",
      "      File \"<string>\", line 1, in <module>\n",
      "      File \"C:\\Users\\KASHIF ANSARI\\AppData\\Local\\Temp\\pip-install-dx8b1i5r\\constraint_ac6b3a2dc2714c4e9cbd88403fd62fd8\\setup.py\", line 143\n",
      "        except OSError, ex:\n",
      "                      ^\n",
      "    SyntaxError: invalid syntax\n",
      "    ----------------------------------------\n",
      "WARNING: Discarding https://files.pythonhosted.org/packages/6f/37/f0910a612df888eab1e04ce6628c98476c0efc9af6e104d2e566bd25cc1f/constraint-0.4.1.tar.gz#sha256=c471f726dbb385c3ab9d0625290dbe1424cfee9ea62928203d1c922eb0b61f38 (from https://pypi.org/simple/constraint/). Command errored out with exit status 1: python setup.py egg_info Check the logs for full command output.\n",
      "    ERROR: Command errored out with exit status 1:\n",
      "     command: 'C:\\ProgramData\\Anaconda3\\python.exe' -c 'import sys, setuptools, tokenize; sys.argv[0] = '\"'\"'C:\\\\Users\\\\KASHIF ANSARI\\\\AppData\\\\Local\\\\Temp\\\\pip-install-dx8b1i5r\\\\constraint_a25d17a6fea5499dbf8a3986d0bcdb09\\\\setup.py'\"'\"'; __file__='\"'\"'C:\\\\Users\\\\KASHIF ANSARI\\\\AppData\\\\Local\\\\Temp\\\\pip-install-dx8b1i5r\\\\constraint_a25d17a6fea5499dbf8a3986d0bcdb09\\\\setup.py'\"'\"';f=getattr(tokenize, '\"'\"'open'\"'\"', open)(__file__);code=f.read().replace('\"'\"'\\r\\n'\"'\"', '\"'\"'\\n'\"'\"');f.close();exec(compile(code, __file__, '\"'\"'exec'\"'\"'))' egg_info --egg-base 'C:\\Users\\KASHIF ANSARI\\AppData\\Local\\Temp\\pip-pip-egg-info-r2dv_69i'\n",
      "         cwd: C:\\Users\\KASHIF ANSARI\\AppData\\Local\\Temp\\pip-install-dx8b1i5r\\constraint_a25d17a6fea5499dbf8a3986d0bcdb09\\\n",
      "    Complete output (6 lines):\n",
      "    Traceback (most recent call last):\n",
      "      File \"<string>\", line 1, in <module>\n",
      "      File \"C:\\Users\\KASHIF ANSARI\\AppData\\Local\\Temp\\pip-install-dx8b1i5r\\constraint_a25d17a6fea5499dbf8a3986d0bcdb09\\setup.py\", line 129\n",
      "        except OSError, ex:\n",
      "                      ^\n",
      "    SyntaxError: invalid syntax\n",
      "    ----------------------------------------\n",
      "WARNING: Discarding https://files.pythonhosted.org/packages/ab/c8/df82c3c6cfa0a39956386dbdf52b9b289dcadb164a32c84758959ee364da/constraint-0.4.0.tar.gz#sha256=069ec8f1a0fd0b33ff1411bc8c5c01599952efb44816a0e40b6d504c4553032a (from https://pypi.org/simple/constraint/). Command errored out with exit status 1: python setup.py egg_info Check the logs for full command output.\n",
      "ERROR: Could not find a version that satisfies the requirement Constraint\n",
      "ERROR: No matching distribution found for Constraint\n"
     ]
    }
   ],
   "source": [
    "pip install Constraint"
   ]
  },
  {
   "cell_type": "code",
   "execution_count": 2,
   "id": "7e7109e8",
   "metadata": {},
   "outputs": [
    {
     "name": "stdout",
     "output_type": "stream",
     "text": [
      "Collecting typingNote: you may need to restart the kernel to use updated packages.\n",
      "  Downloading typing-3.7.4.3.tar.gz (78 kB)\n",
      "Building wheels for collected packages: typing\n",
      "\n",
      "  Building wheel for typing (setup.py): started\n",
      "  Building wheel for typing (setup.py): finished with status 'done'\n",
      "  Created wheel for typing: filename=typing-3.7.4.3-py3-none-any.whl size=26308 sha256=bc44e7571bc1b59790b68b530ae1eb3b44f1061ba55c838ccc9970ff54513880\n",
      "  Stored in directory: c:\\users\\kashif ansari\\appdata\\local\\pip\\cache\\wheels\\5e\\5d\\01\\3083e091b57809dad979ea543def62d9d878950e3e74f0c930\n",
      "Successfully built typing\n",
      "Installing collected packages: typing\n",
      "Successfully installed typing-3.7.4.3\n"
     ]
    }
   ],
   "source": [
    "pip install typing"
   ]
  },
  {
   "cell_type": "code",
   "execution_count": 4,
   "id": "525067f5",
   "metadata": {},
   "outputs": [
    {
     "ename": "ModuleNotFoundError",
     "evalue": "No module named 'Constarint'",
     "output_type": "error",
     "traceback": [
      "\u001b[1;31m---------------------------------------------------------------------------\u001b[0m",
      "\u001b[1;31mModuleNotFoundError\u001b[0m                       Traceback (most recent call last)",
      "\u001b[1;32m<ipython-input-4-2d2151517240>\u001b[0m in \u001b[0;36m<module>\u001b[1;34m\u001b[0m\n\u001b[1;32m----> 1\u001b[1;33m \u001b[1;32mfrom\u001b[0m \u001b[0mConstarint\u001b[0m \u001b[1;32mimport\u001b[0m \u001b[0mcsp\u001b[0m\u001b[1;33m\u001b[0m\u001b[1;33m\u001b[0m\u001b[0m\n\u001b[0m\u001b[0;32m      2\u001b[0m \u001b[1;32mfrom\u001b[0m \u001b[0mtyping\u001b[0m \u001b[1;32mimport\u001b[0m \u001b[0mDict\u001b[0m\u001b[1;33m\u001b[0m\u001b[1;33m\u001b[0m\u001b[0m\n",
      "\u001b[1;31mModuleNotFoundError\u001b[0m: No module named 'Constarint'"
     ]
    }
   ],
   "source": [
    "from Constarint import csp \n",
    "from typing import Dict "
   ]
  },
  {
   "cell_type": "code",
   "execution_count": 5,
   "id": "b1ab5800",
   "metadata": {},
   "outputs": [],
   "source": [
    "graph = {\n",
    "    'A':['B','C'],\n",
    "    'B':['A','C','D'],\n",
    "    'C':['A','B','D','E','F'],\n",
    "    'D':['B','C','E'],\n",
    "    'E':['C','D','F'],\n",
    "    'F':['C','E'],\n",
    "    'G':[]\n",
    "        }\n",
    "array = set()\n",
    "color_l = {}\n",
    "color = [\"Red\",\"Blue\",\"Green\"]\n",
    "def csp(array,graph,color,node):\n",
    "    if node not in array:\n",
    "        color_L[node]=color[n]\n",
    "        array.add(node)\n",
    "        for i in graph[node]:\n",
    "            csp(array,graph,color,i)\n"
   ]
  },
  {
   "cell_type": "code",
   "execution_count": 6,
   "id": "4fceb36e",
   "metadata": {},
   "outputs": [
    {
     "name": "stdout",
     "output_type": "stream",
     "text": [
      "A : Red\n",
      "B : Blue\n",
      "C : Green\n",
      "D : Red\n",
      "E : Blue\n",
      "F : Red\n",
      "G : Red\n"
     ]
    }
   ],
   "source": [
    "graph = {\n",
    "    'A': ['B', 'C'],\n",
    "    'B': ['A', 'C', 'D'],\n",
    "    'C': ['A', 'B', 'D', 'E', 'F'],\n",
    "    'D': ['B', 'C', 'E'],\n",
    "    'E': ['C', 'D', 'F'],\n",
    "    'F': ['C', 'E'],\n",
    "    'G': []\n",
    "}\n",
    "array = set()\n",
    "color_L = {}\n",
    "color = [\"Red\", \"Blue\", \"Green\"]\n",
    "\n",
    "def csp(array, graph, color, node):\n",
    "    if node not in array:\n",
    "        for n in range(len(color)):\n",
    "            can_use_color = True\n",
    "            for neighbor in graph[node]:\n",
    "                if neighbor in array and color_L[neighbor] == color[n]:\n",
    "                    can_use_color = False\n",
    "                    break\n",
    "            if can_use_color:\n",
    "                color_L[node] = color[n]\n",
    "                array.add(node)\n",
    "                for neighbor in graph[node]:\n",
    "                    csp(array, graph, color, neighbor)\n",
    "                break\n",
    "        else:\n",
    "            return False\n",
    "    return True\n",
    "for node in graph.keys():\n",
    "    if node not in array:\n",
    "        csp(array, graph, color, node)\n",
    "\n",
    "for node in graph.keys():\n",
    "    print(node, \":\", color_L[node])\n"
   ]
  },
  {
   "cell_type": "code",
   "execution_count": null,
   "id": "c5a633c2",
   "metadata": {},
   "outputs": [],
   "source": []
  }
 ],
 "metadata": {
  "kernelspec": {
   "display_name": "Python 3",
   "language": "python",
   "name": "python3"
  },
  "language_info": {
   "codemirror_mode": {
    "name": "ipython",
    "version": 3
   },
   "file_extension": ".py",
   "mimetype": "text/x-python",
   "name": "python",
   "nbconvert_exporter": "python",
   "pygments_lexer": "ipython3",
   "version": "3.8.8"
  }
 },
 "nbformat": 4,
 "nbformat_minor": 5
}
